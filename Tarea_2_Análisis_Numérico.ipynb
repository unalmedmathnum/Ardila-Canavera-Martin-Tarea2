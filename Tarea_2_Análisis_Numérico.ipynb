{
  "nbformat": 4,
  "nbformat_minor": 0,
  "metadata": {
    "colab": {
      "provenance": [],
      "include_colab_link": true
    },
    "kernelspec": {
      "name": "python3",
      "display_name": "Python 3"
    },
    "language_info": {
      "name": "python"
    }
  },
  "cells": [
    {
      "cell_type": "markdown",
      "metadata": {
        "id": "view-in-github",
        "colab_type": "text"
      },
      "source": [
        "<a href=\"https://colab.research.google.com/github/macaluzate/Ardila-Canavera-Martin/blob/main/Tarea_2_An%C3%A1lisis_Num%C3%A9rico.ipynb\" target=\"_parent\"><img src=\"https://colab.research.google.com/assets/colab-badge.svg\" alt=\"Open In Colab\"/></a>"
      ]
    },
    {
      "cell_type": "markdown",
      "source": [
        "# **😀PORTADA😀**"
      ],
      "metadata": {
        "id": "25Y3spuLPLhZ"
      }
    },
    {
      "cell_type": "markdown",
      "source": [
        "<center>\n",
        "  \n",
        "\n",
        "## **📉📈➕✖️➖➗🟰📚📙✏️🖋️✒️📝📉📈➕✖️➖➗🟰📚📙✏️🖋️✒️📝📉📈➕✖️**\n",
        "\n",
        "## **Mètodo de Mìnimos Cuadrados**\n",
        "\n",
        "## **Asignatura**\n",
        "\n",
        "  Anàlisis Numèrico\n",
        "\n",
        "## **Profesor**\n",
        "  Manuela Bastidas Olivares\n",
        "\n",
        "## **Estudiantes**\n",
        " Maria Paula Ardila Otero\n",
        "\n",
        " Mateo Cañavera Aluma\n",
        "\n",
        " David Esteban Martin Acosta\n",
        "\n",
        "\n",
        "## **Universidad Nacional de Colombia**\n",
        "## **Sede Medellín**\n",
        "## **2024 - 2**\n",
        "\n",
        "## **📉📈➕✖️➖➗🟰📚📙✏️🖋️✒️📝📉📈➕✖️➖➗🟰📚📙✏️🖋️✒️📝📉📈➕✖️**\n",
        "\n",
        "\n",
        "</center>"
      ],
      "metadata": {
        "id": "AsUYczPcPNGI"
      }
    }
  ]
}