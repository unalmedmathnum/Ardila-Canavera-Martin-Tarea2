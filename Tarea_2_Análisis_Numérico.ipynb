{
  "nbformat": 4,
  "nbformat_minor": 0,
  "metadata": {
    "colab": {
      "provenance": [],
      "include_colab_link": true
    },
    "kernelspec": {
      "name": "python3",
      "display_name": "Python 3"
    },
    "language_info": {
      "name": "python"
    }
  },
  "cells": [
    {
      "cell_type": "markdown",
      "metadata": {
        "id": "view-in-github",
        "colab_type": "text"
      },
      "source": [
        "<a href=\"https://colab.research.google.com/github/macaluzate/Ardila-Canavera-Martin/blob/main/Tarea_2_An%C3%A1lisis_Num%C3%A9rico.ipynb\" target=\"_parent\"><img src=\"https://colab.research.google.com/assets/colab-badge.svg\" alt=\"Open In Colab\"/></a>"
      ]
    },
    {
      "cell_type": "markdown",
      "source": [
        "# **😀PORTADA😀**"
      ],
      "metadata": {
        "id": "25Y3spuLPLhZ"
      }
    },
    {
      "cell_type": "markdown",
      "source": [
        "<center>\n",
        "  \n",
        "\n",
        "## **📉📈➕✖️➖➗🟰📚📙✏️🖋️✒️📝📉📈➕✖️➖➗🟰📚📙✏️🖋️✒️📝📉📈➕✖️**\n",
        "\n",
        "## **Mètodo de Mìnimos Cuadrados**\n",
        "\n",
        "## **Asignatura**\n",
        "\n",
        "  Anàlisis Numèrico\n",
        "\n",
        "## **Profesor**\n",
        "  Manuela Bastidas Olivares\n",
        "\n",
        "## **Estudiantes**\n",
        " Maria Paula Ardila Otero\n",
        "\n",
        " Mateo Cañavera Aluma\n",
        "\n",
        " David Esteban Martin Acosta\n",
        "\n",
        "\n",
        "## **Universidad Nacional de Colombia**\n",
        "## **Sede Medellín**\n",
        "## **2024 - 2**\n",
        "\n",
        "## **📉📈➕✖️➖➗🟰📚📙✏️🖋️✒️📝📉📈➕✖️➖➗🟰📚📙✏️🖋️✒️📝📉📈➕✖️**\n",
        "\n",
        "\n",
        "</center>"
      ],
      "metadata": {
        "id": "AsUYczPcPNGI"
      }
    },
    {
      "cell_type": "markdown",
      "source": [
        "# **🧠Teoría de los Mínimos Cuadrados🧠**"
      ],
      "metadata": {
        "id": "FYPtCID-5cNC"
      }
    },
    {
      "cell_type": "markdown",
      "source": [
        "<div align=\"justify\">\n",
        "\n",
        "**🎗️Subespacios🎗️**\n",
        "\n",
        "Trabajamos sobre el espacio vectorial $V = \\mathbb{R}^n $. Comenzamos con el concepto de subespacio lineal.\n",
        "\n",
        "**DEFINICIÓN (Subespacio lineal)** Un subespacio lineal de $\\mathbb{R}^n$ es un subconjunto $ U \\subseteq \\mathbb{R}^n$ que está cerrado bajo la suma de vectores y la multiplicación por escalares. Es decir, para todo $u_1, u_2 \\in U $ y $\\alpha \\in \\mathbb{R}$, se cumple que:\n",
        "\n",
        "$$u_1 + u_2 \\in U \\quad \\text{y} \\quad \\alpha u_1 \\in U.$$\n",
        "\n",
        "Se sigue de esta condición que \\$ 0 \\in U$.\n",
        "\n",
        "Alternativamente, podemos verificar estas condiciones demostrando que:\n",
        "\n",
        "- (1) $ 0 \\in U$\n",
        "- (2) $u_1, u_2 \\in U$\n",
        "\n",
        "$\\alpha \\in \\mathbb{R}$ implican que $\\alpha u_1 + u_2 \\in U$. De hecho, al tomar $\\alpha = 1$ se cumple la primera condición anterior, mientras que al elegir $u_2 = 0$ se obtiene la segunda.\n",
        "\n",
        "\n",
        "**Ejemplo**: El plano $P$ formado por todos los puntos $(x, y, z) \\in \\mathbb{R}^3$ que satisfacen $z = x + y$ es un subespacio lineal. De hecho, $0 = 0 + 0$ por lo que $(0, 0, 0) \\in P$. Y, para cualquier $u_1 = (x_1, y_1, z_1)$y $u_2 = (x_2, y_2, z_2)$ tales que $z_1 = x_1 + y_1$ y $z_2 = x_2 + y_2$ y para cualquier $\\alpha \\in \\mathbb{R}$, tenemos que:\n",
        "\n",
        "$$\n",
        "\\alpha z_1 + z_2 = \\alpha(x_1 + y_1) + (x_2 + y_2) = (\\alpha x_1 + x_2) + (\\alpha y_1 + y_2).\n",
        "$$\n",
        "\n",
        "Es decir, $\\alpha u_1 + u_2$ satisface la condición que define a $P$ y por lo tanto, está en $P$. Nota también que $P$ pasa por el origen.\n",
        "\n",
        "En este ejemplo, el subespacio lineal $P$ puede describirse alternativamente como la colección de cada vector de la forma $(x, y, x + y)$.\n",
        "\n",
        "\n",
        "</div>"
      ],
      "metadata": {
        "id": "7V7X8pbJ6M28"
      }
    },
    {
      "cell_type": "markdown",
      "source": [],
      "metadata": {
        "id": "MGyYALeZ5aqC"
      }
    },
    {
      "cell_type": "markdown",
      "source": [
        "# **🧠Anàlisis de resultados💡**"
      ],
      "metadata": {
        "id": "9xAcsCwjQJYI"
      }
    },
    {
      "cell_type": "markdown",
      "source": [
        "<div align=\"justify\">\n",
        "\n",
        "**Interpretaciòn de los resultados del modelo de Mínimos Cuadrados**\n",
        "\n",
        "El modelo de Mínimos Cuadrados utilizado en este proyecto tiene como objetivo minimizar la diferencia cuadrada entre las representaciones de firmas auténticas, extrayendo características discriminativas entre las firmas comparadas. Al calcular la **diferencia cuadrada** entre las representaciones de las dos firmas de entrada $(output1$ y $output2)$, la función de pérdida, $ContrastiveLoss$, penaliza las diferencias grandes entre firmas genuinas mientras que no afecta las diferencias cuando las firmas son forjadas. Esta estrategia está diseñada para fomentar la compactación de las representaciones de firmas genuinas y aumentar la distancia entre las representaciones de firmas forjadas.\n",
        "\n",
        "**El objetivo final del modelo es que, para las parejas de firmas genuinas (etiquetadas con 1), la distancia cuadrada entre las representaciones sea lo más pequeña posible, mientras que para las parejas de firmas falsas (etiquetadas con 0), la distancia no debería contribuir al error**.\n",
        "\n",
        "**⚠️Los resultados del modelo pueden interpretarse en términos de la reducción en el valor de la pérdida a lo largo de las iteraciones de entrenamiento, lo cual indica que el modelo está aprendiendo a distinguir correctamente entre firmas genuinas y falsificadas.⚠️**\n",
        "\n",
        "La implementación de mínimos cuadrados muestra características importantes:\n",
        "\n",
        "1. **Sensibilidad a Variaciones:**\n",
        "\n",
        "    - Captura efectivamente diferentes grados de similitud\n",
        "    - Proporciona una métrica continua de similitud\n",
        "    - Mantiene consistencia en las predicciones\n",
        "\n",
        "2. **Escala de Distancias:**\n",
        "\n",
        "    - Rango de valores interpretable (0 a 1)\n",
        "    - Correlación clara entre distancia y similitud\n",
        "    - Umbral natural para clasificación\n",
        "</div>"
      ],
      "metadata": {
        "id": "5GCR_rmgQaiA"
      }
    },
    {
      "cell_type": "markdown",
      "source": [
        "<center>"
      ],
      "metadata": {
        "id": "ycF03gJ1Uy9h"
      }
    },
    {
      "cell_type": "markdown",
      "source": [
        "<div align=\"justify\">\n",
        "\n",
        "**Discutir la calidad del ajuste y las limitaciones del método en tu aplicación específica**\n",
        "\n",
        "La calidad del ajuste de este modelo depende de varios factores. El método de Mínimos Cuadrados es eficaz en escenarios donde las relaciones entre las características de las firmas se pueden modelar de manera lineal o donde las diferencias entre clases (genuinas vs. falsas) no son extremadamente complejas. Sin embargo, hay varios aspectos a considerar:\n",
        "\n",
        "- **Calidad del ajuste:** Si el modelo ha sido entrenado adecuadamente y el valor de la pérdida se ha reducido significativamente a lo largo del entrenamiento, podemos suponer que el modelo está aprendiendo una buena representación de las firmas. Un valor bajo de la pérdida generalmente indica que el modelo está ajustando bien las representaciones. Sin embargo, este ajuste puede no ser perfecto si los datos de entrada tienen ruidos o inconsistencias, como firmas mal escaneadas o variaciones extremas en la escritura.\n",
        "\n",
        "- **Limitaciones:** A pesar de sus ventajas, el método de Mínimos Cuadrados presenta algunas limitaciones. En aplicaciones de verificación de firmas manuscritas, las variaciones naturales en la forma de firmar pueden generar errores en la comparación. Este modelo no captura de manera eficiente las complejidades de las firmas en ciertos casos, como las firmas que han sido realizadas bajo diferentes condiciones físicas o emocionales. Además, el método no tiene en cuenta las posibles transformaciones geométricas (como rotación o escala) que pueden ocurrir en las imágenes de las firmas.\n",
        "\n",
        "</div>"
      ],
      "metadata": {
        "id": "NdBldGsGU0ML"
      }
    },
    {
      "cell_type": "markdown",
      "source": [
        "<center>"
      ],
      "metadata": {
        "id": "GajViQxtXECp"
      }
    },
    {
      "cell_type": "markdown",
      "source": [
        "<div align=\"justify\">\n",
        "\n",
        "**Sugerencia de posibles mejoras y enfoques alternativos**\n",
        "\n",
        "Si bien el uso de Mínimos Cuadrados para la verificación de firmas ofrece una aproximación sólida, se pueden considerar varias mejoras y enfoques alternativos:\n",
        "\n",
        "- **Aumento de datos:** A medida que los modelos de redes neuronales se entrenan con más variabilidad en los datos, el ajuste y la robustez mejoran significativamente. Técnicas como la rotación, la distorsión y el cambio de escala pueden generar más datos de entrenamiento para manejar mejor las variaciones en las firmas.\n",
        "\n",
        "- **Redes neuronales profundas (Deep Learning):** Aunque las redes siamesas ofrecen una estructura efectiva para comparar pares de firmas, el uso de modelos más complejos como redes neuronales convolucionales (CNN) o arquitecturas de redes neuronales recurrentes (RNN) podría mejorar la extracción de características, especialmente para firmas con alta variabilidad o estilos de escritura complejos.\n",
        "\n",
        "- **Técnicas de Regularización:** Para evitar el sobreajuste (overfitting), que puede ocurrir cuando el modelo es entrenado en un conjunto de datos limitado, se pueden incorporar técnicas de regularización como Dropout, L2 regularization o Data Augmentation.\n",
        "\n",
        "\n",
        "- **Enfoques alternativos:** En lugar de usar Mínimos Cuadrados, se podrían explorar otras funciones de pérdida, como la pérdida de contraste o la pérdida de tripletas, que podrían ser más adecuadas para la comparación de firmas, especialmente cuando se busca una mayor distancia entre las firmas genuinas y falsas.\n",
        "\n",
        "</div>"
      ],
      "metadata": {
        "id": "GnKcOE_VXFG-"
      }
    }
  ]
}